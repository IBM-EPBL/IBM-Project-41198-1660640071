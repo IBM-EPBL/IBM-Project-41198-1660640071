{
  "cells": [
    {
      "cell_type": "markdown",
      "metadata": {
        "id": "fwU2iooz85jt"
      },
      "source": [
        "## Exercises\n",
        "\n",
        "Answer the questions or complete the tasks outlined in bold below, use the specific method described if applicable."
      ]
    },
    {
      "cell_type": "markdown",
      "metadata": {
        "id": "SzBQQ_ml85j1"
      },
      "source": [
        "** What is 7 to the power of 4?**"
      ]
    },
    {
      "cell_type": "code",
      "execution_count": null,
      "metadata": {
        "id": "UhvE4PBC85j3",
        "outputId": "d8019be1-cb27-4e2a-8f18-6e0a33a989ba",
        "colab": {
          "base_uri": "https://localhost:8080/"
        }
      },
      "outputs": [
        {
          "output_type": "stream",
          "name": "stdout",
          "text": [
            "2401\n"
          ]
        }
      ],
      "source": [
        "\n",
        "def CalculatePower(N,X): \n",
        "\n",
        "  P=1\n",
        "\n",
        "  for i in range(1, X+1): \n",
        "\n",
        "    P=P*N \n",
        "\n",
        "  return P \n",
        "\n",
        "  \n",
        "\n",
        "N,X=7,4 \n",
        "\n",
        "print(CalculatePower(N,X))"
      ]
    },
    {
      "cell_type": "markdown",
      "metadata": {
        "id": "ds8G9S8j85j6"
      },
      "source": [
        "** Split this string:**\n",
        "\n",
        "    s = \"Hi there Sam!\"\n",
        "    \n",
        "**into a list. **"
      ]
    },
    {
      "cell_type": "code",
      "source": [
        "# Replace Values in a List using indexing\n",
        "\n",
        "l = [ 'Hi','there', 'sam!']\n",
        "  \n",
        "l[2] = 'dad'\n",
        "  \n",
        "\n",
        "print(l)"
      ],
      "metadata": {
        "colab": {
          "base_uri": "https://localhost:8080/"
        },
        "id": "Je5elwEyxDHO",
        "outputId": "330f5580-612a-4490-d2ba-d995589d6184"
      },
      "execution_count": null,
      "outputs": [
        {
          "output_type": "stream",
          "name": "stdout",
          "text": [
            "['Hi', 'there', 'dad']\n"
          ]
        }
      ]
    },
    {
      "cell_type": "markdown",
      "metadata": {
        "id": "_bBNOu-785j9"
      },
      "source": [
        "** Given the variables:**\n",
        "\n",
        "    planet = \"Earth\"\n",
        "    diameter = 12742\n",
        "\n",
        "** Use .format() to print the following string: **\n",
        "\n",
        "    The diameter of Earth is 12742 kilometers."
      ]
    },
    {
      "cell_type": "code",
      "execution_count": null,
      "metadata": {
        "id": "s_dQ7_xc85j_",
        "outputId": "d3ae0f78-76c9-4bde-ee25-a2faf379d031",
        "colab": {
          "base_uri": "https://localhost:8080/"
        }
      },
      "outputs": [
        {
          "output_type": "stream",
          "name": "stdout",
          "text": [
            "The diameter of the earth is 12742 kilometers.\n"
          ]
        }
      ],
      "source": [
        "planet = \"earth\"\n",
        "\n",
        "diameter = 12742\n",
        "\n",
        "print(\"The diameter of the {} is {} kilometers.\".format(planet , diameter))"
      ]
    },
    {
      "cell_type": "markdown",
      "metadata": {
        "id": "QAKtN7Hh85kB"
      },
      "source": [
        "** Given this nested list, use indexing to grab the word \"hello\" **"
      ]
    },
    {
      "cell_type": "code",
      "execution_count": null,
      "metadata": {
        "collapsed": true,
        "id": "-7dzQDyK85kD"
      },
      "outputs": [],
      "source": [
        "lst = [1,2,[3,4],[5,[100,200,['hello']],23,11],1,7]"
      ]
    },
    {
      "cell_type": "code",
      "execution_count": null,
      "metadata": {
        "id": "6m5C0sTW85kE",
        "outputId": "1c913730-b73d-4caa-b819-d8b960dadf54",
        "colab": {
          "base_uri": "https://localhost:8080/"
        }
      },
      "outputs": [
        {
          "output_type": "stream",
          "name": "stdout",
          "text": [
            "['hello']\n"
          ]
        }
      ],
      "source": [
        "l=[1,2,[3,4],[5,[100,200,['hello']],23,11],1,7]\n",
        "print(l[3][1][2])"
      ]
    },
    {
      "cell_type": "markdown",
      "metadata": {
        "id": "9Ma7M4a185kF"
      },
      "source": [
        "** Given this nest dictionary grab the word \"hello\". Be prepared, this will be annoying/tricky **"
      ]
    },
    {
      "cell_type": "code",
      "execution_count": null,
      "metadata": {
        "id": "vrYAxSYN85kG"
      },
      "outputs": [],
      "source": [
        "d = {'k1':[1,2,3,{'tricky':['oh','man','inception',{'target':[1,2,3,'hello']}]}]}"
      ]
    },
    {
      "cell_type": "code",
      "execution_count": null,
      "metadata": {
        "id": "FlILSdm485kH",
        "outputId": "6910db49-1fec-4d3e-820f-bff8dd3d34ff",
        "colab": {
          "base_uri": "https://localhost:8080/"
        }
      },
      "outputs": [
        {
          "output_type": "stream",
          "name": "stdout",
          "text": [
            "hello\n"
          ]
        }
      ],
      "source": [
        "\n",
        "d = {'k1':[1,2,3,{'tricky':['oh','man','inception',{'target':[1,2,3,'hello']}]}]}\n",
        "\n",
        "print(d['k1'][3]['tricky'][3]['target'][3])"
      ]
    },
    {
      "cell_type": "markdown",
      "metadata": {
        "id": "FInV_FKB85kI"
      },
      "source": [
        "** What is the main difference between a tuple and a list? **"
      ]
    },
    {
      "cell_type": "code",
      "execution_count": null,
      "metadata": {
        "collapsed": true,
        "id": "_VBWf00q85kJ"
      },
      "outputs": [],
      "source": [
        "list = ['a', 'b', 'c', 'd', 'e']  #list is mutable\n",
        "tuples = ('a', 'b', 'c', 'd', 'e')  #tuple is immutable"
      ]
    },
    {
      "cell_type": "markdown",
      "metadata": {
        "id": "zP-j0HZj85kK"
      },
      "source": [
        "** Create a function that grabs the email website domain from a string in the form: **\n",
        "\n",
        "    user@domain.com\n",
        "    \n",
        "**So for example, passing \"user@domain.com\" would return: domain.com**"
      ]
    },
    {
      "cell_type": "code",
      "execution_count": null,
      "metadata": {
        "id": "Gb9dspLC85kL",
        "outputId": "e208f233-3187-485b-e25f-8310f029632a",
        "colab": {
          "base_uri": "https://localhost:8080/"
        }
      },
      "outputs": [
        {
          "output_type": "stream",
          "name": "stdout",
          "text": [
            "domain.com\n"
          ]
        }
      ],
      "source": [
        "string = \"user@domain.com\"\n",
        "\n",
        "def grabDomain(string):\n",
        "    myString = \"\"\n",
        "    found = False\n",
        "    for i in string:\n",
        "        if(found):\n",
        "            myString = myString + i\n",
        "            \n",
        "        if(i == \"@\"):\n",
        "            \n",
        "            found = True\n",
        "            \n",
        "    return myString\n",
        "\n",
        "print(grabDomain(string))"
      ]
    },
    {
      "cell_type": "markdown",
      "metadata": {
        "id": "gYydb-y085kM"
      },
      "source": [
        "** Create a basic function that returns True if the word 'dog' is contained in the input string. Don't worry about edge cases like a punctuation being attached to the word dog, but do account for capitalization. **"
      ]
    },
    {
      "cell_type": "code",
      "execution_count": null,
      "metadata": {
        "id": "EqH6b7yv85kN",
        "outputId": "0799cd11-07ef-4829-e1f0-a9cb35576c00",
        "colab": {
          "base_uri": "https://localhost:8080/"
        }
      },
      "outputs": [
        {
          "output_type": "stream",
          "name": "stdout",
          "text": [
            "True\n"
          ]
        }
      ],
      "source": [
        "def countFound(string , searchString):\n",
        "    \n",
        "    count = 0\n",
        "    \n",
        "    for i in range(len(string)):\n",
        "        if(string[i:i+len(searchString)] == searchString):\n",
        "            count = count + 1\n",
        "            \n",
        "    return count\n",
        "\n",
        "\n",
        "\n",
        "def foundTrueFalse(string , searchString):\n",
        "    \n",
        "    count = countFound(string , searchString)\n",
        "    \n",
        "    if(count > 0):\n",
        "        return True\n",
        "    else:\n",
        "        return False\n",
        "\n",
        "\n",
        "print(foundTrueFalse(\"cksdog nkjsbak dog\" , \"dog\"))"
      ]
    },
    {
      "cell_type": "markdown",
      "metadata": {
        "id": "AyHQFALC85kO"
      },
      "source": [
        "** Create a function that counts the number of times the word \"dog\" occurs in a string. Again ignore edge cases. **"
      ]
    },
    {
      "cell_type": "code",
      "execution_count": null,
      "metadata": {
        "id": "igzsvHb385kO",
        "outputId": "697372c7-2d9d-427c-d5de-5adf92b4af25",
        "colab": {
          "base_uri": "https://localhost:8080/"
        }
      },
      "outputs": [
        {
          "output_type": "stream",
          "name": "stdout",
          "text": [
            "2\n"
          ]
        }
      ],
      "source": [
        "def countFound(string , searchString):\n",
        "    \n",
        "    count = 0\n",
        "    \n",
        "    for i in range(len(string)):\n",
        "        if(string[i:i+len(searchString)] == searchString):\n",
        "            count = count + 1\n",
        "            \n",
        "    return count\n",
        "\n",
        "\n",
        "print(countFound(\"cksdog nkjsbak dog\" , \"dog\"))"
      ]
    },
    {
      "cell_type": "markdown",
      "metadata": {
        "id": "3n7jJt4k85kP"
      },
      "source": [
        "### Problem\n",
        "**You are driving a little too fast, and a police officer stops you. Write a function\n",
        "  to return one of 3 possible results: \"No ticket\", \"Small ticket\", or \"Big Ticket\". \n",
        "  If your speed is 60 or less, the result is \"No Ticket\". If speed is between 61 \n",
        "  and 80 inclusive, the result is \"Small Ticket\". If speed is 81 or more, the result is \"Big    Ticket\". Unless it is your birthday (encoded as a boolean value in the parameters of the function) -- on your birthday, your speed can be 5 higher in all \n",
        "  cases. **"
      ]
    },
    {
      "cell_type": "code",
      "execution_count": null,
      "metadata": {
        "id": "p1AGJ7DM85kR",
        "outputId": "300e88dd-c504-4e89-866a-e137ae0f15ce",
        "colab": {
          "base_uri": "https://localhost:8080/"
        }
      },
      "outputs": [
        {
          "output_type": "stream",
          "name": "stdout",
          "text": [
            "small Ticket\n"
          ]
        }
      ],
      "source": [
        "def caugthSpeed(speed):\n",
        "    if(speed <= 60):\n",
        "        return \"no Ticket\"\n",
        "    elif(speed <= 80):\n",
        "        return \"small Ticket\"\n",
        "    elif(speed > 81):\n",
        "        return \"big Ticket\"\n",
        "    \n",
        "print(caugthSpeed(80))"
      ]
    },
    {
      "cell_type": "markdown",
      "source": [
        "Create an employee list with basic salary values(at least 5 values for 5 employees)  and using a for loop retreive each employee salary and calculate total salary expenditure. "
      ],
      "metadata": {
        "id": "Tie4rC7_kAOC"
      }
    },
    {
      "cell_type": "code",
      "source": [
        "def caugthSpeed(speed):\n",
        "    if(speed <= 60):\n",
        "        return \"no Ticket\"\n",
        "    elif(speed <= 80):\n",
        "        return \"small Ticket\"\n",
        "    elif(speed > 81):\n",
        "        return \"big Ticket\"\n",
        "    \n",
        "print(caugthSpeed(86))"
      ],
      "metadata": {
        "id": "R5-CdXSKjacN",
        "colab": {
          "base_uri": "https://localhost:8080/"
        },
        "outputId": "82dfce94-8f7c-4536-b6e8-3797f13a9693"
      },
      "execution_count": null,
      "outputs": [
        {
          "output_type": "stream",
          "name": "stdout",
          "text": [
            "big Ticket\n"
          ]
        }
      ]
    },
    {
      "cell_type": "markdown",
      "source": [
        "Create two dictionaries in Python:\n",
        "\n",
        "First one to contain fields as Empid,  Empname,  Basicpay\n",
        "\n",
        "Second dictionary to contain fields as DeptName,  DeptId.\n",
        "\n",
        "Combine both dictionaries. "
      ],
      "metadata": {
        "id": "-L1aiFqRkF5s"
      }
    },
    {
      "cell_type": "code",
      "source": [
        "d1 = {'Empid ' : '920119104017',       \n",
        "    'Empname' : 'Sowmya',  \n",
        "    'Basicpay': '20000',  \n",
        "      \n",
        "}  \n",
        "  \n",
        "# Defines the d2 dictionary   \n",
        "d2 = {'Deptname' : 'cse',  \n",
        "    'Deptid ' : '19cs17',  \n",
        "    }  \n",
        "  \n",
        "d1.update(d2) # append the d2 dictionary items into the d1 dictionary.  \n",
        "print( \"Merge two dictionaries :\")  \n",
        "print(d1) # print the merge dictionary"
      ],
      "metadata": {
        "id": "8ugVoEe0kOsk",
        "colab": {
          "base_uri": "https://localhost:8080/"
        },
        "outputId": "9137c6fd-0584-4988-9db5-647105c491c5"
      },
      "execution_count": null,
      "outputs": [
        {
          "output_type": "stream",
          "name": "stdout",
          "text": [
            "Merge two dictionaries :\n",
            "{'Empid ': '920119104017', 'Empname': 'Sowmya', 'Basicpay': '20000', 'Deptname': 'cse', 'Deptid ': '19cs17'}\n"
          ]
        }
      ]
    },
    {
      "cell_type": "code",
      "source": [],
      "metadata": {
        "id": "2JGOjaqE_Ih6"
      },
      "execution_count": null,
      "outputs": []
    }
  ],
  "metadata": {
    "colab": {
      "provenance": [],
      "collapsed_sections": []
    },
    "kernelspec": {
      "display_name": "Python 3",
      "language": "python",
      "name": "python3"
    },
    "language_info": {
      "codemirror_mode": {
        "name": "ipython",
        "version": 3
      },
      "file_extension": ".py",
      "mimetype": "text/x-python",
      "name": "python",
      "nbconvert_exporter": "python",
      "pygments_lexer": "ipython3",
      "version": "3.8.5"
    }
  },
  "nbformat": 4,
  "nbformat_minor": 0
}